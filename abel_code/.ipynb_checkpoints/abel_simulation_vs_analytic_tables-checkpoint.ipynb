{
 "cells": [
  {
   "cell_type": "markdown",
   "metadata": {},
   "source": [
    "Compare the analytical solution for the spec rad with the Monte Carlo estimates"
   ]
  },
  {
   "cell_type": "code",
   "execution_count": 13,
   "metadata": {
    "collapsed": true
   },
   "outputs": [],
   "source": [
    "import matplotlib.pyplot as plt\n",
    "from matplotlib import cm\n",
    "\n",
    "import numpy as np\n",
    "import quantecon as qe\n",
    "\n",
    "from scipy.linalg import eigvals\n",
    "import pandas as pd"
   ]
  },
  {
   "cell_type": "code",
   "execution_count": 14,
   "metadata": {
    "collapsed": true
   },
   "outputs": [],
   "source": [
    "from projection_code.abel_model import AbelModel"
   ]
  },
  {
   "cell_type": "code",
   "execution_count": 15,
   "metadata": {
    "collapsed": true
   },
   "outputs": [],
   "source": [
    "from projection_code import project_valuation_ops"
   ]
  },
  {
   "cell_type": "code",
   "execution_count": 104,
   "metadata": {
    "collapsed": true
   },
   "outputs": [],
   "source": [
    "ab = AbelModel(β=0.985)"
   ]
  },
  {
   "cell_type": "code",
   "execution_count": 105,
   "metadata": {},
   "outputs": [
    {
     "data": {
      "text/plain": [
       "0.002"
      ]
     },
     "execution_count": 105,
     "metadata": {},
     "output_type": "execute_result"
    }
   ],
   "source": [
    "ab.σ"
   ]
  },
  {
   "cell_type": "code",
   "execution_count": 106,
   "metadata": {},
   "outputs": [
    {
     "data": {
      "text/plain": [
       "0.9850088650398926"
      ]
     },
     "execution_count": 106,
     "metadata": {},
     "output_type": "execute_result"
    }
   ],
   "source": [
    "ab.spec_rad_analytic()"
   ]
  },
  {
   "cell_type": "code",
   "execution_count": 107,
   "metadata": {},
   "outputs": [
    {
     "name": "stdout",
     "output_type": "stream",
     "text": [
      "Converged in 944 iterations\n",
      "CPU times: user 556 ms, sys: 0 ns, total: 556 ms\n",
      "Wall time: 552 ms\n"
     ]
    },
    {
     "data": {
      "text/plain": [
       "0.9850038944560956"
      ]
     },
     "execution_count": 107,
     "metadata": {},
     "output_type": "execute_result"
    }
   ],
   "source": [
    "%time ab.local_spec_rad_iterative(tol=1e-9, max_iter=10000)"
   ]
  },
  {
   "cell_type": "code",
   "execution_count": 122,
   "metadata": {},
   "outputs": [
    {
     "name": "stdout",
     "output_type": "stream",
     "text": [
      "CPU times: user 696 ms, sys: 40 ms, total: 736 ms\n",
      "Wall time: 735 ms\n"
     ]
    },
    {
     "data": {
      "text/plain": [
       "0.98500781348275379"
      ]
     },
     "execution_count": 122,
     "metadata": {},
     "output_type": "execute_result"
    }
   ],
   "source": [
    "%time ab.local_spec_rad_simulation(num_paths=10000, ts_length=1000)"
   ]
  },
  {
   "cell_type": "code",
   "execution_count": 113,
   "metadata": {
    "collapsed": true
   },
   "outputs": [],
   "source": [
    "nvals = [200,  500, 600, 700, 800, 900, 1000]\n",
    "mvals = [750, 1000, 2000, 5000, 10000]"
   ]
  },
  {
   "cell_type": "code",
   "execution_count": 114,
   "metadata": {},
   "outputs": [],
   "source": [
    "out = np.empty((len(mvals), len(nvals)))"
   ]
  },
  {
   "cell_type": "code",
   "execution_count": 115,
   "metadata": {},
   "outputs": [],
   "source": [
    "for (i, n) in enumerate(nvals):\n",
    "    for (j, m) in enumerate(mvals):\n",
    "        out[j, i] = ab.local_spec_rad_simulation(num_paths=m, ts_length=n)"
   ]
  },
  {
   "cell_type": "code",
   "execution_count": 116,
   "metadata": {},
   "outputs": [
    {
     "data": {
      "text/plain": [
       "array([[ 0.98500288,  0.9850058 ,  0.98500691,  0.98501364,  0.98500962,\n",
       "         0.98500571,  0.98501251],\n",
       "       [ 0.98500897,  0.9850065 ,  0.98500652,  0.9850068 ,  0.9850082 ,\n",
       "         0.98500911,  0.98500358],\n",
       "       [ 0.98500856,  0.98500608,  0.98500868,  0.98501076,  0.98500139,\n",
       "         0.98501165,  0.98500865],\n",
       "       [ 0.98500642,  0.98500823,  0.98500563,  0.98500781,  0.98500706,\n",
       "         0.98500729,  0.98501092],\n",
       "       [ 0.98500724,  0.98500963,  0.98500897,  0.98500875,  0.98500892,\n",
       "         0.98500932,  0.98500757]])"
      ]
     },
     "execution_count": 116,
     "metadata": {},
     "output_type": "execute_result"
    }
   ],
   "source": [
    "out"
   ]
  },
  {
   "cell_type": "code",
   "execution_count": 117,
   "metadata": {
    "collapsed": true
   },
   "outputs": [],
   "source": [
    "df = pd.DataFrame(out)"
   ]
  },
  {
   "cell_type": "code",
   "execution_count": 118,
   "metadata": {
    "collapsed": true
   },
   "outputs": [],
   "source": [
    "df.columns = [\"n = {}\".format(n) for n in nvals]"
   ]
  },
  {
   "cell_type": "code",
   "execution_count": 119,
   "metadata": {},
   "outputs": [],
   "source": [
    "df.index = [\"m = {}\".format(m) for m in mvals]"
   ]
  },
  {
   "cell_type": "code",
   "execution_count": 120,
   "metadata": {},
   "outputs": [
    {
     "data": {
      "text/html": [
       "<div>\n",
       "<style>\n",
       "    .dataframe thead tr:only-child th {\n",
       "        text-align: right;\n",
       "    }\n",
       "\n",
       "    .dataframe thead th {\n",
       "        text-align: left;\n",
       "    }\n",
       "\n",
       "    .dataframe tbody tr th {\n",
       "        vertical-align: top;\n",
       "    }\n",
       "</style>\n",
       "<table border=\"1\" class=\"dataframe\">\n",
       "  <thead>\n",
       "    <tr style=\"text-align: right;\">\n",
       "      <th></th>\n",
       "      <th>n = 200</th>\n",
       "      <th>n = 500</th>\n",
       "      <th>n = 600</th>\n",
       "      <th>n = 700</th>\n",
       "      <th>n = 800</th>\n",
       "      <th>n = 900</th>\n",
       "      <th>n = 1000</th>\n",
       "    </tr>\n",
       "  </thead>\n",
       "  <tbody>\n",
       "    <tr>\n",
       "      <th>m = 750</th>\n",
       "      <td>0.985003</td>\n",
       "      <td>0.985006</td>\n",
       "      <td>0.985007</td>\n",
       "      <td>0.985014</td>\n",
       "      <td>0.985010</td>\n",
       "      <td>0.985006</td>\n",
       "      <td>0.985013</td>\n",
       "    </tr>\n",
       "    <tr>\n",
       "      <th>m = 1000</th>\n",
       "      <td>0.985009</td>\n",
       "      <td>0.985007</td>\n",
       "      <td>0.985007</td>\n",
       "      <td>0.985007</td>\n",
       "      <td>0.985008</td>\n",
       "      <td>0.985009</td>\n",
       "      <td>0.985004</td>\n",
       "    </tr>\n",
       "    <tr>\n",
       "      <th>m = 2000</th>\n",
       "      <td>0.985009</td>\n",
       "      <td>0.985006</td>\n",
       "      <td>0.985009</td>\n",
       "      <td>0.985011</td>\n",
       "      <td>0.985001</td>\n",
       "      <td>0.985012</td>\n",
       "      <td>0.985009</td>\n",
       "    </tr>\n",
       "    <tr>\n",
       "      <th>m = 5000</th>\n",
       "      <td>0.985006</td>\n",
       "      <td>0.985008</td>\n",
       "      <td>0.985006</td>\n",
       "      <td>0.985008</td>\n",
       "      <td>0.985007</td>\n",
       "      <td>0.985007</td>\n",
       "      <td>0.985011</td>\n",
       "    </tr>\n",
       "    <tr>\n",
       "      <th>m = 10000</th>\n",
       "      <td>0.985007</td>\n",
       "      <td>0.985010</td>\n",
       "      <td>0.985009</td>\n",
       "      <td>0.985009</td>\n",
       "      <td>0.985009</td>\n",
       "      <td>0.985009</td>\n",
       "      <td>0.985008</td>\n",
       "    </tr>\n",
       "  </tbody>\n",
       "</table>\n",
       "</div>"
      ],
      "text/plain": [
       "            n = 200   n = 500   n = 600   n = 700   n = 800   n = 900  \\\n",
       "m = 750    0.985003  0.985006  0.985007  0.985014  0.985010  0.985006   \n",
       "m = 1000   0.985009  0.985007  0.985007  0.985007  0.985008  0.985009   \n",
       "m = 2000   0.985009  0.985006  0.985009  0.985011  0.985001  0.985012   \n",
       "m = 5000   0.985006  0.985008  0.985006  0.985008  0.985007  0.985007   \n",
       "m = 10000  0.985007  0.985010  0.985009  0.985009  0.985009  0.985009   \n",
       "\n",
       "           n = 1000  \n",
       "m = 750    0.985013  \n",
       "m = 1000   0.985004  \n",
       "m = 2000   0.985009  \n",
       "m = 5000   0.985011  \n",
       "m = 10000  0.985008  "
      ]
     },
     "execution_count": 120,
     "metadata": {},
     "output_type": "execute_result"
    }
   ],
   "source": [
    "df"
   ]
  },
  {
   "cell_type": "code",
   "execution_count": 121,
   "metadata": {
    "collapsed": true
   },
   "outputs": [],
   "source": [
    "df.to_latex(\"out.tex\")"
   ]
  },
  {
   "cell_type": "code",
   "execution_count": null,
   "metadata": {
    "collapsed": true
   },
   "outputs": [],
   "source": []
  }
 ],
 "metadata": {
  "anaconda-cloud": {},
  "kernelspec": {
   "display_name": "Python 3",
   "language": "python",
   "name": "python3"
  }
 },
 "nbformat": 4,
 "nbformat_minor": 1
}
