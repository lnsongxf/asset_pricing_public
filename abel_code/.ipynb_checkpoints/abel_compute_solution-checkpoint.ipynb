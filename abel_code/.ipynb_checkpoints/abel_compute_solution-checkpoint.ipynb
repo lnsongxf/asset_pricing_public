{
 "cells": [
  {
   "cell_type": "markdown",
   "metadata": {},
   "source": [
    "## Solve for the price-dividend ratio in the Abel model"
   ]
  },
  {
   "cell_type": "markdown",
   "metadata": {},
   "source": [
    "Solve the model\n",
    "\n",
    "$$    f = Af + \\phi $$\n",
    "\n",
    "where\n",
    "\n",
    "$$    Af(x) = \\int f(x') \\phi(x) q(x, x') dx' $$\n",
    "\n",
    "and \n",
    "\n",
    "$$    \\phi(x) = k_0 \\exp(k_1 x) $$\n",
    "\n",
    "from the Abel model.  The stochastic kernel q corresponds to a Gaussian AR1\n",
    "process. Note that A is a type II valuation operator."
   ]
  },
  {
   "cell_type": "code",
   "execution_count": 62,
   "metadata": {
    "collapsed": true
   },
   "outputs": [],
   "source": [
    "matplotlib inline"
   ]
  },
  {
   "cell_type": "code",
   "execution_count": 1,
   "metadata": {
    "collapsed": true
   },
   "outputs": [],
   "source": [
    "import numpy as np\n",
    "import matplotlib.pyplot as plt\n",
    "from mpl_toolkits.mplot3d.axes3d import Axes3D\n",
    "from matplotlib import cm\n",
    "\n",
    "from project_valuation_ops import AR1, compute_K\n",
    "from abel_model import AbelModel\n",
    "from hermite_poly import HermitePoly\n",
    "\n",
    "from scipy.integrate import quad, fixed_quad\n",
    "from scipy.linalg import solve"
   ]
  },
  {
   "cell_type": "code",
   "execution_count": 2,
   "metadata": {
    "collapsed": true
   },
   "outputs": [],
   "source": [
    "\n",
    "n = 60\n",
    "h = HermitePoly(n)\n",
    "\n",
    "def compute_solution(rho, sigma, gamma, beta):\n",
    "\n",
    "    ab = AbelModel(beta=beta, sigma=sigma, gamma=gamma, rho=rho)\n",
    "    ar1 = AR1(ab.rho, ab.b, ab.sigma)\n",
    "\n",
    "    phi = lambda x: ab.k0 * np.exp(ab.k1 * x)\n",
    "    A = compute_K(ar1, phi, operator_type=2, n=n)\n",
    "\n",
    "    # == Compute the inner product of phi and the basis elements == #\n",
    "    phi_vec = np.empty(n)\n",
    "\n",
    "    for i in range(n):\n",
    "        def integrand(x):\n",
    "            return h(i, ar1.tau(x)) * phi(x) * ar1.pi(x)\n",
    "        xa, xb = ar1.smean - 10 * ar1.ssd, ar1.smean + 10 * ar1.ssd \n",
    "        val, error = fixed_quad(integrand, xa, xb, n=60)\n",
    "        phi_vec[i] = val\n",
    "\n",
    "    I = np.identity(n)\n",
    "    coefs = solve(I - A, phi_vec)\n",
    "    \n",
    "    def f(x):\n",
    "        s = 0.0\n",
    "        for i in range(n):\n",
    "            s += coefs[i] * h(i, ar1.tau(x))\n",
    "        return s\n",
    "\n",
    "    return f"
   ]
  },
  {
   "cell_type": "code",
   "execution_count": 10,
   "metadata": {},
   "outputs": [],
   "source": [
    "rho = 0.96\n",
    "sigma = 0.1\n",
    "gamma = 3.0\n",
    "beta = 0.96\n",
    "\n",
    "fig, ax = plt.subplots(figsize=(10, 7))\n",
    "xgrid = np.linspace(1, 4, 100)\n",
    "\n",
    "for sigma in (0.075, 0.1, 0.125):\n",
    "\n",
    "    f = compute_solution(rho, sigma, gamma, beta)\n",
    "    y = [np.log(f(x)) for x in xgrid]\n",
    "    ax.plot(xgrid, y, label=r\"{}\".format(sigma))\n",
    "    \n",
    "ax.legend(loc='upper left')\n",
    "\n",
    "plt.show()"
   ]
  },
  {
   "cell_type": "code",
   "execution_count": null,
   "metadata": {
    "collapsed": true
   },
   "outputs": [],
   "source": [
    "gamma_min, gamma_max, gamma_size = 1.5, 2.5, 25\n",
    "x_min, x_max, x_size = 1, 3, 25\n",
    "\n",
    "x_grid = np.linspace(x_min, x_max, x_size)\n",
    "gamma_grid = np.linspace(gamma_min, gamma_max, gamma_size)\n",
    "\n",
    "z = np.empty((x_size, gamma_size))\n",
    "\n",
    "i_x, i_g = 0, 0\n",
    "for gamma in gamma_grid:\n",
    "    f = compute_solution(rho, sigma, gamma, beta)\n",
    "    for x in x_grid:\n",
    "        z[i_x, i_g] = np.log(f(x))\n",
    "        i_x += 1\n",
    "    i_x = 0\n",
    "    i_g += 1"
   ]
  },
  {
   "cell_type": "code",
   "execution_count": 16,
   "metadata": {},
   "outputs": [],
   "source": [
    "z = z.T\n",
    "x, y = np.meshgrid(x_grid, gamma_grid)\n",
    "\n",
    "# === plot price function === #\n",
    "\n",
    "fig = plt.figure(figsize=(8,6))\n",
    "ax = fig.add_subplot(111, projection='3d')\n",
    "ax.plot_surface(x, y, z, rstride=2, cstride=2, cmap=cm.jet, alpha=0.6, linewidth=0.25)\n",
    "ax.set_xlabel(\"$x$\", fontsize=15)\n",
    "ax.set_ylabel(\"$\\gamma$\", fontsize=15)\n",
    "plt.show()"
   ]
  },
  {
   "cell_type": "code",
   "execution_count": null,
   "metadata": {
    "collapsed": true
   },
   "outputs": [],
   "source": []
  }
 ],
 "metadata": {
  "kernelspec": {
   "display_name": "Python 3",
   "language": "python",
   "name": "python3"
  },
  "language_info": {
   "codemirror_mode": {
    "name": "ipython",
    "version": 3
   },
   "file_extension": ".py",
   "mimetype": "text/x-python",
   "name": "python",
   "nbconvert_exporter": "python",
   "pygments_lexer": "ipython3",
   "version": "3.6.4"
  }
 },
 "nbformat": 4,
 "nbformat_minor": 1
}
