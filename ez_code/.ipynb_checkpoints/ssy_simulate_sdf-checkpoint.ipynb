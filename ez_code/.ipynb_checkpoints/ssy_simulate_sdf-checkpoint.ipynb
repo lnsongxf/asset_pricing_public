{
 "cells": [
  {
   "cell_type": "markdown",
   "metadata": {},
   "source": [
    "## SSY Spectral Radius"
   ]
  },
  {
   "cell_type": "code",
   "execution_count": 1,
   "metadata": {},
   "outputs": [
    {
     "data": {
      "text/plain": [
       "compute_spec_rad_by_sim (generic function with 1 method)"
      ]
     },
     "execution_count": 1,
     "metadata": {},
     "output_type": "execute_result"
    }
   ],
   "source": [
    "include(\"ssy_simulate_sdf.jl\")"
   ]
  },
  {
   "cell_type": "code",
   "execution_count": 2,
   "metadata": {
    "collapsed": true
   },
   "outputs": [],
   "source": [
    "ez = EpsteinZinSSY(ζ=1.0)\n",
    "sc = SSYConsumption()\n",
    "sd = SSYDividends()\n",
    "scm = SSYComputableModel(ez, sc, sd, \n",
    "                         q=0.05, \n",
    "                         gs_z=8, \n",
    "                         gs_h_z=4, \n",
    "                         gs_h_c=4);"
   ]
  },
  {
   "cell_type": "code",
   "execution_count": 3,
   "metadata": {},
   "outputs": [
    {
     "name": "stdout",
     "output_type": "stream",
     "text": [
      "\n",
      "Recursive utility calculation converged in 19327 iterations \n",
      "using tolerance 1.0e-6.\n",
      "\n",
      "128.823370 seconds (1.04 M allocations: 134.929 MiB, 0.02% gc time)\n"
     ]
    }
   ],
   "source": [
    "# Set w_star\n",
    "@time compute_recursive_utility!(scm, verbose=true);"
   ]
  },
  {
   "cell_type": "markdown",
   "metadata": {},
   "source": [
    "Test whether $Tw = w$:"
   ]
  },
  {
   "cell_type": "code",
   "execution_count": 4,
   "metadata": {},
   "outputs": [
    {
     "data": {
      "text/html": [
       "-8.641845852253027e-7"
      ],
      "text/plain": [
       "-8.641845852253027e-7"
      ]
     },
     "execution_count": 4,
     "metadata": {},
     "output_type": "execute_result"
    }
   ],
   "source": [
    "test_ez_solution(scm)"
   ]
  },
  {
   "cell_type": "markdown",
   "metadata": {},
   "source": [
    "Now test by Euler equation:"
   ]
  },
  {
   "cell_type": "code",
   "execution_count": 7,
   "metadata": {},
   "outputs": [
    {
     "data": {
      "text/html": [
       "-0.004073359609209848"
      ],
      "text/plain": [
       "-0.004073359609209848"
      ]
     },
     "execution_count": 7,
     "metadata": {},
     "output_type": "execute_result"
    }
   ],
   "source": [
    "test_ez_euler(scm, n=1000000) - 1.0"
   ]
  },
  {
   "cell_type": "code",
   "execution_count": 6,
   "metadata": {},
   "outputs": [
    {
     "data": {
      "text/html": [
       "0.9999955916546551"
      ],
      "text/plain": [
       "0.9999955916546551"
      ]
     },
     "execution_count": 6,
     "metadata": {},
     "output_type": "execute_result"
    }
   ],
   "source": [
    "compute_spec_rad_by_sim(scm, n=1000, m=10000, recompute=false)"
   ]
  }
 ],
 "metadata": {
  "kernelspec": {
   "display_name": "Julia 0.6.0",
   "language": "julia",
   "name": "julia-0.6"
  },
  "language_info": {
   "file_extension": ".jl",
   "mimetype": "application/julia",
   "name": "julia",
   "version": "0.6.0"
  }
 },
 "nbformat": 4,
 "nbformat_minor": 2
}
