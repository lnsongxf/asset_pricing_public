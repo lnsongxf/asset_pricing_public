{
 "cells": [
  {
   "cell_type": "markdown",
   "metadata": {},
   "source": [
    "## SSY Spectral Radius"
   ]
  },
  {
   "cell_type": "code",
   "execution_count": 2,
   "metadata": {},
   "outputs": [
    {
     "ename": "LoadError",
     "evalue": "LoadError: LoadError: LoadError: LoadError: \u001b[91mcould not open file /home/john/sync_dir/papers/fwd_looking_eqs/asset_pricing/ez_code/recursive_utility_solvers/consumption_models.jl\u001b[39m\nwhile loading /home/john/sync_dir/papers/fwd_looking_eqs/asset_pricing/ez_code/recursive_utility_solvers/ssy_model.jl, in expression starting on line 10\nwhile loading /home/john/sync_dir/papers/fwd_looking_eqs/asset_pricing/ez_code/recursive_utility_solvers/ssy_k_op.jl, in expression starting on line 1\nwhile loading /home/john/sync_dir/papers/fwd_looking_eqs/asset_pricing/ez_code/recursive_utility_solvers/compute_recursive_util.jl, in expression starting on line 11\nwhile loading /home/john/sync_dir/papers/fwd_looking_eqs/asset_pricing/ez_code/compute_spec_rad.jl, in expression starting on line 16",
     "output_type": "error",
     "traceback": [
      "LoadError: LoadError: LoadError: LoadError: \u001b[91mcould not open file /home/john/sync_dir/papers/fwd_looking_eqs/asset_pricing/ez_code/recursive_utility_solvers/consumption_models.jl\u001b[39m\nwhile loading /home/john/sync_dir/papers/fwd_looking_eqs/asset_pricing/ez_code/recursive_utility_solvers/ssy_model.jl, in expression starting on line 10\nwhile loading /home/john/sync_dir/papers/fwd_looking_eqs/asset_pricing/ez_code/recursive_utility_solvers/ssy_k_op.jl, in expression starting on line 1\nwhile loading /home/john/sync_dir/papers/fwd_looking_eqs/asset_pricing/ez_code/recursive_utility_solvers/compute_recursive_util.jl, in expression starting on line 11\nwhile loading /home/john/sync_dir/papers/fwd_looking_eqs/asset_pricing/ez_code/compute_spec_rad.jl, in expression starting on line 16",
      "",
      "Stacktrace:",
      " [1] \u001b[1minclude_from_node1\u001b[22m\u001b[22m\u001b[1m(\u001b[22m\u001b[22m::String\u001b[1m)\u001b[22m\u001b[22m at \u001b[1m./loading.jl:569\u001b[22m\u001b[22m",
      " [2] \u001b[1minclude\u001b[22m\u001b[22m\u001b[1m(\u001b[22m\u001b[22m::String\u001b[1m)\u001b[22m\u001b[22m at \u001b[1m./sysimg.jl:14\u001b[22m\u001b[22m",
      " [3] \u001b[1minclude_from_node1\u001b[22m\u001b[22m\u001b[1m(\u001b[22m\u001b[22m::String\u001b[1m)\u001b[22m\u001b[22m at \u001b[1m./loading.jl:569\u001b[22m\u001b[22m",
      " [4] \u001b[1minclude\u001b[22m\u001b[22m\u001b[1m(\u001b[22m\u001b[22m::String\u001b[1m)\u001b[22m\u001b[22m at \u001b[1m./sysimg.jl:14\u001b[22m\u001b[22m",
      " [5] \u001b[1minclude_from_node1\u001b[22m\u001b[22m\u001b[1m(\u001b[22m\u001b[22m::String\u001b[1m)\u001b[22m\u001b[22m at \u001b[1m./loading.jl:569\u001b[22m\u001b[22m",
      " [6] \u001b[1minclude\u001b[22m\u001b[22m\u001b[1m(\u001b[22m\u001b[22m::String\u001b[1m)\u001b[22m\u001b[22m at \u001b[1m./sysimg.jl:14\u001b[22m\u001b[22m",
      " [7] \u001b[1minclude_from_node1\u001b[22m\u001b[22m\u001b[1m(\u001b[22m\u001b[22m::String\u001b[1m)\u001b[22m\u001b[22m at \u001b[1m./loading.jl:569\u001b[22m\u001b[22m",
      " [8] \u001b[1minclude\u001b[22m\u001b[22m\u001b[1m(\u001b[22m\u001b[22m::String\u001b[1m)\u001b[22m\u001b[22m at \u001b[1m./sysimg.jl:14\u001b[22m\u001b[22m",
      " [9] \u001b[1minclude_from_node1\u001b[22m\u001b[22m\u001b[1m(\u001b[22m\u001b[22m::String\u001b[1m)\u001b[22m\u001b[22m at \u001b[1m./loading.jl:569\u001b[22m\u001b[22m",
      " [10] \u001b[1minclude\u001b[22m\u001b[22m\u001b[1m(\u001b[22m\u001b[22m::String\u001b[1m)\u001b[22m\u001b[22m at \u001b[1m./sysimg.jl:14\u001b[22m\u001b[22m",
      " [11] \u001b[1minclude_string\u001b[22m\u001b[22m\u001b[1m(\u001b[22m\u001b[22m::String, ::String\u001b[1m)\u001b[22m\u001b[22m at \u001b[1m./loading.jl:515\u001b[22m\u001b[22m"
     ]
    }
   ],
   "source": [
    "include(\"compute_spec_rad.jl\")"
   ]
  },
  {
   "cell_type": "code",
   "execution_count": 2,
   "metadata": {
    "collapsed": true
   },
   "outputs": [],
   "source": [
    "ez = EpsteinZinSSY(ζ=1.0)\n",
    "sc = SSYConsumption()\n",
    "sd = SSYDividends()\n",
    "scm = SSYComputableModel(ez, sc, sd, \n",
    "                         q=0.05, \n",
    "                         gs_z=8, \n",
    "                         gs_h_z=4, \n",
    "                         gs_h_c=4);"
   ]
  },
  {
   "cell_type": "code",
   "execution_count": 3,
   "metadata": {},
   "outputs": [
    {
     "name": "stdout",
     "output_type": "stream",
     "text": [
      "\n",
      "Recursive utility calculation converged in 19327 iterations \n",
      "using tolerance 1.0e-6.\n",
      "\n",
      "128.823370 seconds (1.04 M allocations: 134.929 MiB, 0.02% gc time)\n"
     ]
    }
   ],
   "source": [
    "# Set w_star\n",
    "@time compute_recursive_utility!(scm, verbose=true);"
   ]
  },
  {
   "cell_type": "markdown",
   "metadata": {},
   "source": [
    "Test whether $Tw = w$:"
   ]
  },
  {
   "cell_type": "code",
   "execution_count": 4,
   "metadata": {},
   "outputs": [
    {
     "data": {
      "text/html": [
       "-8.641845852253027e-7"
      ],
      "text/plain": [
       "-8.641845852253027e-7"
      ]
     },
     "execution_count": 4,
     "metadata": {},
     "output_type": "execute_result"
    }
   ],
   "source": [
    "test_ez_solution(scm)"
   ]
  },
  {
   "cell_type": "markdown",
   "metadata": {},
   "source": [
    "Now test by Euler equation:"
   ]
  },
  {
   "cell_type": "code",
   "execution_count": 7,
   "metadata": {},
   "outputs": [
    {
     "data": {
      "text/html": [
       "-0.004073359609209848"
      ],
      "text/plain": [
       "-0.004073359609209848"
      ]
     },
     "execution_count": 7,
     "metadata": {},
     "output_type": "execute_result"
    }
   ],
   "source": [
    "test_ez_euler(scm, n=1000000) - 1.0"
   ]
  },
  {
   "cell_type": "code",
   "execution_count": 6,
   "metadata": {},
   "outputs": [
    {
     "data": {
      "text/html": [
       "0.9999955916546551"
      ],
      "text/plain": [
       "0.9999955916546551"
      ]
     },
     "execution_count": 6,
     "metadata": {},
     "output_type": "execute_result"
    }
   ],
   "source": [
    "compute_spec_rad_by_sim(scm, n=1000, m=10000, recompute=false)"
   ]
  }
 ],
 "metadata": {
  "kernelspec": {
   "display_name": "Julia 0.6.0",
   "language": "julia",
   "name": "julia-0.6"
  },
  "language_info": {
   "file_extension": ".jl",
   "mimetype": "application/julia",
   "name": "julia",
   "version": "0.6.0"
  }
 },
 "nbformat": 4,
 "nbformat_minor": 2
}
