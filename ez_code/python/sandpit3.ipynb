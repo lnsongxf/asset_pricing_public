{
 "cells": [
  {
   "cell_type": "code",
   "execution_count": 1,
   "metadata": {},
   "outputs": [],
   "source": [
    "from by_model import *\n",
    "from quantecon.util import tic, toc"
   ]
  },
  {
   "cell_type": "code",
   "execution_count": 2,
   "metadata": {},
   "outputs": [],
   "source": [
    "by = BY(z_grid_size=6, σ_grid_size=6)\n"
   ]
  },
  {
   "cell_type": "code",
   "execution_count": 3,
   "metadata": {},
   "outputs": [
    {
     "data": {
      "text/plain": [
       "10.0"
      ]
     },
     "execution_count": 3,
     "metadata": {},
     "output_type": "execute_result"
    }
   ],
   "source": [
    "by.γ"
   ]
  },
  {
   "cell_type": "code",
   "execution_count": 4,
   "metadata": {},
   "outputs": [
    {
     "name": "stdout",
     "output_type": "stream",
     "text": [
      "error at iterate 200 = 0.7227694257924497\n",
      "error at iterate 400 = 0.4897688090695169\n",
      "error at iterate 600 = 0.3317988360534514\n",
      "error at iterate 800 = 0.22476531768836594\n",
      "error at iterate 1000 = 0.1522549840577767\n",
      "error at iterate 1200 = 0.10313520989348035\n",
      "error at iterate 1400 = 0.06986155825859441\n",
      "error at iterate 1600 = 0.0473224228660456\n",
      "error at iterate 1800 = 0.03205486783235756\n",
      "error at iterate 2000 = 0.021713003564968858\n",
      "error at iterate 2200 = 0.014707710884181324\n",
      "error at iterate 2400 = 0.00996253306266226\n",
      "error at iterate 2600 = 0.006748296242108154\n",
      "error at iterate 2800 = 0.00457107431930126\n",
      "error at iterate 3000 = 0.0030962946093495702\n",
      "error at iterate 3200 = 0.0020973271098227997\n",
      "error at iterate 3400 = 0.0014206594890993074\n",
      "error at iterate 3600 = 0.0009623072915019293\n",
      "error at iterate 3800 = 0.000651834774089366\n",
      "error at iterate 4000 = 0.00044153105341138144\n",
      "error at iterate 4200 = 0.00029907834391451615\n",
      "error at iterate 4400 = 0.0002025856463205855\n",
      "error at iterate 4600 = 0.00013722472488097992\n",
      "error at iterate 4800 = 9.295142706378101e-05\n",
      "error at iterate 5000 = 6.296217929957493e-05\n",
      "error at iterate 5200 = 4.2648468479455914e-05\n",
      "error at iterate 5400 = 2.888864196393115e-05\n",
      "error at iterate 5600 = 1.9568196989894204e-05\n",
      "error at iterate 5800 = 1.3254840268928092e-05\n",
      "TOC: Elapsed: 0:00:8.56\n"
     ]
    },
    {
     "data": {
      "text/plain": [
       "8.567400693893433"
      ]
     },
     "execution_count": 4,
     "metadata": {},
     "output_type": "execute_result"
    }
   ],
   "source": [
    "tic()\n",
    "by.compute_recursive_utility(print_skip=200)\n",
    "toc()"
   ]
  },
  {
   "cell_type": "code",
   "execution_count": 5,
   "metadata": {},
   "outputs": [],
   "source": [
    "by.γ = 10.1"
   ]
  },
  {
   "cell_type": "code",
   "execution_count": 6,
   "metadata": {},
   "outputs": [
    {
     "name": "stdout",
     "output_type": "stream",
     "text": [
      "error at iterate 50 = 0.002326915827211451\n",
      "error at iterate 100 = 0.0016232895958410154\n",
      "error at iterate 150 = 0.0013895791120148715\n",
      "error at iterate 200 = 0.0012406072713702088\n",
      "error at iterate 250 = 0.0011183008695070384\n",
      "error at iterate 300 = 0.0010150661476018286\n",
      "error at iterate 350 = 0.0009220766944508796\n",
      "error at iterate 400 = 0.0008370442827754232\n",
      "error at iterate 450 = 0.0007595716516561879\n",
      "error at iterate 500 = 0.0006891304129794662\n",
      "error at iterate 550 = 0.0006251533967542855\n",
      "error at iterate 600 = 0.0005670822678212062\n",
      "error at iterate 650 = 0.0005143889475220931\n",
      "error at iterate 700 = 0.00046658380620101525\n",
      "error at iterate 750 = 0.00042321750390783563\n",
      "error at iterate 800 = 0.0003838799036657292\n",
      "error at iterate 850 = 0.00034819773372873897\n",
      "error at iterate 900 = 0.00031583180191319116\n",
      "error at iterate 950 = 0.00028647414183069486\n",
      "error at iterate 1000 = 0.0002598452653046479\n",
      "error at iterate 1050 = 0.0002356915900918466\n",
      "error at iterate 1100 = 0.00021378307042141387\n",
      "error at iterate 1150 = 0.00019391102614463307\n",
      "error at iterate 1200 = 0.00017588616628927412\n",
      "error at iterate 1250 = 0.00015953679121594178\n",
      "error at iterate 1300 = 0.00014470715939296497\n",
      "error at iterate 1350 = 0.00013125600492003286\n",
      "error at iterate 1400 = 0.000119055193067652\n",
      "error at iterate 1450 = 0.00010798849905313546\n",
      "error at iterate 1500 = 9.795050198135868e-05\n",
      "error at iterate 1550 = 8.884558019417454e-05\n",
      "error at iterate 1600 = 8.058700018409581e-05\n",
      "error at iterate 1650 = 7.30960905457323e-05\n",
      "error at iterate 1700 = 6.63014935753381e-05\n",
      "error at iterate 1750 = 6.0138483718219504e-05\n",
      "error at iterate 1800 = 5.4548352181882365e-05\n",
      "error at iterate 1850 = 4.947784748310369e-05\n",
      "error at iterate 1900 = 4.487866806357488e-05\n",
      "error at iterate 1950 = 4.070700231295632e-05\n",
      "error at iterate 2000 = 3.6923110769748746e-05\n",
      "error at iterate 2050 = 3.349094845361833e-05\n",
      "error at iterate 2100 = 3.037782028059155e-05\n",
      "error at iterate 2150 = 2.7554070811675047e-05\n",
      "error at iterate 2200 = 2.499280105894286e-05\n",
      "error at iterate 2250 = 2.2669612462777877e-05\n",
      "error at iterate 2300 = 2.056237417491502e-05\n",
      "error at iterate 2350 = 1.86510128514783e-05\n",
      "error at iterate 2400 = 1.691732074959873e-05\n",
      "error at iterate 2450 = 1.534478280973417e-05\n",
      "error at iterate 2500 = 1.391841908571223e-05\n",
      "error at iterate 2550 = 1.2624642067748937e-05\n",
      "error at iterate 2600 = 1.1451127193140564e-05\n",
      "error at iterate 2650 = 1.0386695407760271e-05\n",
      "TOC: Elapsed: 0:00:3.51\n"
     ]
    },
    {
     "data": {
      "text/plain": [
       "3.5123085975646973"
      ]
     },
     "execution_count": 6,
     "metadata": {},
     "output_type": "execute_result"
    }
   ],
   "source": [
    "tic()\n",
    "by.compute_recursive_utility(w_init=by.w_star, print_skip=50)\n",
    "toc()"
   ]
  },
  {
   "cell_type": "code",
   "execution_count": null,
   "metadata": {},
   "outputs": [],
   "source": []
  }
 ],
 "metadata": {
  "kernelspec": {
   "display_name": "Python 3",
   "language": "python",
   "name": "python3"
  },
  "language_info": {
   "codemirror_mode": {
    "name": "ipython",
    "version": 3
   },
   "file_extension": ".py",
   "mimetype": "text/x-python",
   "name": "python",
   "nbconvert_exporter": "python",
   "pygments_lexer": "ipython3",
   "version": "3.6.4"
  }
 },
 "nbformat": 4,
 "nbformat_minor": 2
}
