{
 "cells": [
  {
   "cell_type": "markdown",
   "metadata": {},
   "source": [
    "## Replicate the spectral radius tables from the CRRA example"
   ]
  },
  {
   "cell_type": "code",
   "execution_count": 117,
   "metadata": {
    "collapsed": true
   },
   "outputs": [],
   "source": [
    "from mp_model import MehraPrescott\n",
    "import numpy as np\n",
    "import pandas as pd"
   ]
  },
  {
   "cell_type": "code",
   "execution_count": 139,
   "metadata": {
    "collapsed": true
   },
   "outputs": [],
   "source": [
    "mp = MehraPrescott(γ=2.4)"
   ]
  },
  {
   "cell_type": "code",
   "execution_count": 140,
   "metadata": {
    "collapsed": true
   },
   "outputs": [],
   "source": [
    "pd.set_option('precision', 7)"
   ]
  },
  {
   "cell_type": "markdown",
   "metadata": {},
   "source": [
    "Check that the stationary mean and standard deviation line up:"
   ]
  },
  {
   "cell_type": "code",
   "execution_count": 141,
   "metadata": {},
   "outputs": [
    {
     "data": {
      "text/plain": [
       "0.0012558858188906844"
      ]
     },
     "execution_count": 141,
     "metadata": {},
     "output_type": "execute_result"
    }
   ],
   "source": [
    "mp.ssd"
   ]
  },
  {
   "cell_type": "code",
   "execution_count": 142,
   "metadata": {},
   "outputs": [
    {
     "data": {
      "text/plain": [
       "0.01762711864406778"
      ]
     },
     "execution_count": 142,
     "metadata": {},
     "output_type": "execute_result"
    }
   ],
   "source": [
    "mp.smean"
   ]
  },
  {
   "cell_type": "markdown",
   "metadata": {},
   "source": [
    "Here's the spectral radius at default values:"
   ]
  },
  {
   "cell_type": "code",
   "execution_count": 143,
   "metadata": {},
   "outputs": [
    {
     "data": {
      "text/plain": [
       "0.96591692164430643"
      ]
     },
     "execution_count": 143,
     "metadata": {},
     "output_type": "execute_result"
    }
   ],
   "source": [
    "mp.spec_rad_analytic()"
   ]
  },
  {
   "cell_type": "markdown",
   "metadata": {},
   "source": [
    "Generate the table"
   ]
  },
  {
   "cell_type": "code",
   "execution_count": 144,
   "metadata": {
    "collapsed": true
   },
   "outputs": [],
   "source": [
    "nvals = [400, 600, 800, 1000, 1200]\n",
    "mvals = [10000, 15000, 20000, 25000]"
   ]
  },
  {
   "cell_type": "code",
   "execution_count": 145,
   "metadata": {
    "collapsed": true
   },
   "outputs": [],
   "source": [
    "out = np.empty((len(mvals), len(nvals)))"
   ]
  },
  {
   "cell_type": "code",
   "execution_count": 150,
   "metadata": {
    "collapsed": true
   },
   "outputs": [],
   "source": [
    "for (i, n) in enumerate(nvals):\n",
    "    for (j, m) in enumerate(mvals):\n",
    "        out[j, i] = mp.spec_rad_sim(num_paths=m, ts_length=n)"
   ]
  },
  {
   "cell_type": "code",
   "execution_count": 151,
   "metadata": {},
   "outputs": [
    {
     "data": {
      "text/plain": [
       "array([[ 0.96591578,  0.96591456,  0.96591073,  0.96591814,  0.96591262],\n",
       "       [ 0.96591374,  0.96591456,  0.96591543,  0.96591933,  0.96591608],\n",
       "       [ 0.96591189,  0.96591437,  0.96591591,  0.96591661,  0.96591416],\n",
       "       [ 0.96591668,  0.96591269,  0.96591555,  0.96591609,  0.9659127 ]])"
      ]
     },
     "execution_count": 151,
     "metadata": {},
     "output_type": "execute_result"
    }
   ],
   "source": [
    "out"
   ]
  },
  {
   "cell_type": "code",
   "execution_count": 156,
   "metadata": {
    "collapsed": true
   },
   "outputs": [],
   "source": [
    "df = pd.DataFrame(out)"
   ]
  },
  {
   "cell_type": "code",
   "execution_count": 157,
   "metadata": {
    "collapsed": true
   },
   "outputs": [],
   "source": [
    "df.columns = [\"n = {}\".format(n) for n in nvals]"
   ]
  },
  {
   "cell_type": "code",
   "execution_count": 158,
   "metadata": {
    "collapsed": true
   },
   "outputs": [],
   "source": [
    "df.index = [\"m = {}\".format(m) for m in mvals]"
   ]
  },
  {
   "cell_type": "code",
   "execution_count": 159,
   "metadata": {},
   "outputs": [
    {
     "data": {
      "text/html": [
       "<div>\n",
       "<style>\n",
       "    .dataframe thead tr:only-child th {\n",
       "        text-align: right;\n",
       "    }\n",
       "\n",
       "    .dataframe thead th {\n",
       "        text-align: left;\n",
       "    }\n",
       "\n",
       "    .dataframe tbody tr th {\n",
       "        vertical-align: top;\n",
       "    }\n",
       "</style>\n",
       "<table border=\"1\" class=\"dataframe\">\n",
       "  <thead>\n",
       "    <tr style=\"text-align: right;\">\n",
       "      <th></th>\n",
       "      <th>n = 400</th>\n",
       "      <th>n = 600</th>\n",
       "      <th>n = 800</th>\n",
       "      <th>n = 1000</th>\n",
       "      <th>n = 1200</th>\n",
       "    </tr>\n",
       "  </thead>\n",
       "  <tbody>\n",
       "    <tr>\n",
       "      <th>m = 10000</th>\n",
       "      <td>0.9659158</td>\n",
       "      <td>0.9659146</td>\n",
       "      <td>0.9659107</td>\n",
       "      <td>0.9659181</td>\n",
       "      <td>0.9659126</td>\n",
       "    </tr>\n",
       "    <tr>\n",
       "      <th>m = 15000</th>\n",
       "      <td>0.9659137</td>\n",
       "      <td>0.9659146</td>\n",
       "      <td>0.9659154</td>\n",
       "      <td>0.9659193</td>\n",
       "      <td>0.9659161</td>\n",
       "    </tr>\n",
       "    <tr>\n",
       "      <th>m = 20000</th>\n",
       "      <td>0.9659119</td>\n",
       "      <td>0.9659144</td>\n",
       "      <td>0.9659159</td>\n",
       "      <td>0.9659166</td>\n",
       "      <td>0.9659142</td>\n",
       "    </tr>\n",
       "    <tr>\n",
       "      <th>m = 25000</th>\n",
       "      <td>0.9659167</td>\n",
       "      <td>0.9659127</td>\n",
       "      <td>0.9659155</td>\n",
       "      <td>0.9659161</td>\n",
       "      <td>0.9659127</td>\n",
       "    </tr>\n",
       "  </tbody>\n",
       "</table>\n",
       "</div>"
      ],
      "text/plain": [
       "             n = 400    n = 600    n = 800   n = 1000   n = 1200\n",
       "m = 10000  0.9659158  0.9659146  0.9659107  0.9659181  0.9659126\n",
       "m = 15000  0.9659137  0.9659146  0.9659154  0.9659193  0.9659161\n",
       "m = 20000  0.9659119  0.9659144  0.9659159  0.9659166  0.9659142\n",
       "m = 25000  0.9659167  0.9659127  0.9659155  0.9659161  0.9659127"
      ]
     },
     "execution_count": 159,
     "metadata": {},
     "output_type": "execute_result"
    }
   ],
   "source": [
    "df"
   ]
  },
  {
   "cell_type": "code",
   "execution_count": 160,
   "metadata": {
    "collapsed": true
   },
   "outputs": [],
   "source": [
    "df.to_latex(\"out.tex\")"
   ]
  },
  {
   "cell_type": "code",
   "execution_count": 133,
   "metadata": {},
   "outputs": [
    {
     "name": "stdout",
     "output_type": "stream",
     "text": [
      "             n = 400    n = 600    n = 800   n = 1000   n = 1200\n",
      "m = 10000  0.9642160  0.9642266  0.9642217  0.9642176  0.9642245\n",
      "m = 15000  0.9642196  0.9642174  0.9642189  0.9642167  0.9642211\n",
      "m = 20000  0.9642207  0.9642193  0.9642234  0.9642242  0.9642242\n",
      "m = 25000  0.9642189  0.9642222  0.9642191  0.9642220  0.9642249\n"
     ]
    }
   ],
   "source": [
    "print(df)"
   ]
  },
  {
   "cell_type": "code",
   "execution_count": null,
   "metadata": {
    "collapsed": true
   },
   "outputs": [],
   "source": []
  }
 ],
 "metadata": {
  "kernelspec": {
   "display_name": "Python 3",
   "language": "python",
   "name": "python3"
  },
  "language_info": {
   "codemirror_mode": {
    "name": "ipython",
    "version": 3
   },
   "file_extension": ".py",
   "mimetype": "text/x-python",
   "name": "python",
   "nbconvert_exporter": "python",
   "pygments_lexer": "ipython3",
   "version": "3.6.3"
  }
 },
 "nbformat": 4,
 "nbformat_minor": 2
}
