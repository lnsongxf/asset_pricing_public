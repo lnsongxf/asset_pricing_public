{
 "cells": [
  {
   "cell_type": "markdown",
   "metadata": {},
   "source": [
    "## Replicate the spectral radius tables from the CRRA example"
   ]
  },
  {
   "cell_type": "code",
   "execution_count": 58,
   "metadata": {},
   "outputs": [],
   "source": [
    "from mp_model import MehraPrescott\n",
    "import numpy as np\n",
    "import pandas as pd"
   ]
  },
  {
   "cell_type": "code",
   "execution_count": 121,
   "metadata": {},
   "outputs": [],
   "source": [
    "mp = MehraPrescott(γ=2.0)"
   ]
  },
  {
   "cell_type": "markdown",
   "metadata": {},
   "source": [
    "Check that the stationary mean and standard deviation line up:"
   ]
  },
  {
   "cell_type": "code",
   "execution_count": 122,
   "metadata": {},
   "outputs": [
    {
     "data": {
      "text/plain": [
       "0.0012558858188906844"
      ]
     },
     "execution_count": 122,
     "metadata": {},
     "output_type": "execute_result"
    }
   ],
   "source": [
    "mp.ssd"
   ]
  },
  {
   "cell_type": "code",
   "execution_count": 123,
   "metadata": {},
   "outputs": [
    {
     "data": {
      "text/plain": [
       "0.01762711864406778"
      ]
     },
     "execution_count": 123,
     "metadata": {},
     "output_type": "execute_result"
    }
   ],
   "source": [
    "mp.smean"
   ]
  },
  {
   "cell_type": "markdown",
   "metadata": {},
   "source": [
    "Here's the spectral radius at default values:"
   ]
  },
  {
   "cell_type": "code",
   "execution_count": 124,
   "metadata": {},
   "outputs": [
    {
     "data": {
      "text/plain": [
       "0.97272729339331709"
      ]
     },
     "execution_count": 124,
     "metadata": {},
     "output_type": "execute_result"
    }
   ],
   "source": [
    "mp.spec_rad_analytic()"
   ]
  },
  {
   "cell_type": "code",
   "execution_count": 125,
   "metadata": {},
   "outputs": [
    {
     "data": {
      "text/plain": [
       "0.97272394980728105"
      ]
     },
     "execution_count": 125,
     "metadata": {},
     "output_type": "execute_result"
    }
   ],
   "source": [
    "mp.spec_rad_sim()"
   ]
  },
  {
   "cell_type": "markdown",
   "metadata": {},
   "source": [
    "Generate the table"
   ]
  },
  {
   "cell_type": "code",
   "execution_count": 126,
   "metadata": {
    "collapsed": true
   },
   "outputs": [],
   "source": [
    "nvals = [200,  500, 600, 700, 800, 900, 1000]\n",
    "mvals = [2000, 5000, 7500, 10000]"
   ]
  },
  {
   "cell_type": "code",
   "execution_count": 127,
   "metadata": {},
   "outputs": [],
   "source": [
    "out = np.empty((len(mvals), len(nvals)))"
   ]
  },
  {
   "cell_type": "code",
   "execution_count": 130,
   "metadata": {},
   "outputs": [],
   "source": [
    "for (i, n) in enumerate(nvals):\n",
    "    for (j, m) in enumerate(mvals):\n",
    "        out[j, i] = mp.spec_rad_sim(num_paths=m, ts_length=n)"
   ]
  },
  {
   "cell_type": "code",
   "execution_count": 131,
   "metadata": {},
   "outputs": [
    {
     "data": {
      "text/plain": [
       "array([[ 0.97274258,  0.97273035,  0.97272073,  0.97273754,  0.97271982,\n",
       "         0.97272678,  0.97273041],\n",
       "       [ 0.97271964,  0.97272842,  0.97273324,  0.97272586,  0.97272679,\n",
       "         0.97272537,  0.97272351],\n",
       "       [ 0.97272658,  0.97273558,  0.97272506,  0.9727266 ,  0.97272743,\n",
       "         0.97272695,  0.97272698],\n",
       "       [ 0.9727279 ,  0.97272641,  0.97272401,  0.97272656,  0.97272445,\n",
       "         0.97272722,  0.97272567]])"
      ]
     },
     "execution_count": 131,
     "metadata": {},
     "output_type": "execute_result"
    }
   ],
   "source": [
    "out"
   ]
  },
  {
   "cell_type": "code",
   "execution_count": 132,
   "metadata": {
    "collapsed": true
   },
   "outputs": [],
   "source": [
    "df = pd.DataFrame(out)"
   ]
  },
  {
   "cell_type": "code",
   "execution_count": 133,
   "metadata": {},
   "outputs": [],
   "source": [
    "df.columns = [\"n = {}\".format(n) for n in nvals]"
   ]
  },
  {
   "cell_type": "code",
   "execution_count": 134,
   "metadata": {
    "collapsed": true
   },
   "outputs": [],
   "source": [
    "df.index = [\"m = {}\".format(m) for m in mvals]"
   ]
  },
  {
   "cell_type": "code",
   "execution_count": 135,
   "metadata": {},
   "outputs": [
    {
     "data": {
      "text/html": [
       "<div>\n",
       "<style>\n",
       "    .dataframe thead tr:only-child th {\n",
       "        text-align: right;\n",
       "    }\n",
       "\n",
       "    .dataframe thead th {\n",
       "        text-align: left;\n",
       "    }\n",
       "\n",
       "    .dataframe tbody tr th {\n",
       "        vertical-align: top;\n",
       "    }\n",
       "</style>\n",
       "<table border=\"1\" class=\"dataframe\">\n",
       "  <thead>\n",
       "    <tr style=\"text-align: right;\">\n",
       "      <th></th>\n",
       "      <th>n = 200</th>\n",
       "      <th>n = 500</th>\n",
       "      <th>n = 600</th>\n",
       "      <th>n = 700</th>\n",
       "      <th>n = 800</th>\n",
       "      <th>n = 900</th>\n",
       "      <th>n = 1000</th>\n",
       "    </tr>\n",
       "  </thead>\n",
       "  <tbody>\n",
       "    <tr>\n",
       "      <th>m = 2000</th>\n",
       "      <td>0.972743</td>\n",
       "      <td>0.972730</td>\n",
       "      <td>0.972721</td>\n",
       "      <td>0.972738</td>\n",
       "      <td>0.972720</td>\n",
       "      <td>0.972727</td>\n",
       "      <td>0.972730</td>\n",
       "    </tr>\n",
       "    <tr>\n",
       "      <th>m = 5000</th>\n",
       "      <td>0.972720</td>\n",
       "      <td>0.972728</td>\n",
       "      <td>0.972733</td>\n",
       "      <td>0.972726</td>\n",
       "      <td>0.972727</td>\n",
       "      <td>0.972725</td>\n",
       "      <td>0.972724</td>\n",
       "    </tr>\n",
       "    <tr>\n",
       "      <th>m = 7500</th>\n",
       "      <td>0.972727</td>\n",
       "      <td>0.972736</td>\n",
       "      <td>0.972725</td>\n",
       "      <td>0.972727</td>\n",
       "      <td>0.972727</td>\n",
       "      <td>0.972727</td>\n",
       "      <td>0.972727</td>\n",
       "    </tr>\n",
       "    <tr>\n",
       "      <th>m = 10000</th>\n",
       "      <td>0.972728</td>\n",
       "      <td>0.972726</td>\n",
       "      <td>0.972724</td>\n",
       "      <td>0.972727</td>\n",
       "      <td>0.972724</td>\n",
       "      <td>0.972727</td>\n",
       "      <td>0.972726</td>\n",
       "    </tr>\n",
       "  </tbody>\n",
       "</table>\n",
       "</div>"
      ],
      "text/plain": [
       "            n = 200   n = 500   n = 600   n = 700   n = 800   n = 900  \\\n",
       "m = 2000   0.972743  0.972730  0.972721  0.972738  0.972720  0.972727   \n",
       "m = 5000   0.972720  0.972728  0.972733  0.972726  0.972727  0.972725   \n",
       "m = 7500   0.972727  0.972736  0.972725  0.972727  0.972727  0.972727   \n",
       "m = 10000  0.972728  0.972726  0.972724  0.972727  0.972724  0.972727   \n",
       "\n",
       "           n = 1000  \n",
       "m = 2000   0.972730  \n",
       "m = 5000   0.972724  \n",
       "m = 7500   0.972727  \n",
       "m = 10000  0.972726  "
      ]
     },
     "execution_count": 135,
     "metadata": {},
     "output_type": "execute_result"
    }
   ],
   "source": [
    "df"
   ]
  },
  {
   "cell_type": "code",
   "execution_count": 136,
   "metadata": {
    "collapsed": true
   },
   "outputs": [],
   "source": [
    "df.to_latex(\"out.tex\")"
   ]
  },
  {
   "cell_type": "code",
   "execution_count": null,
   "metadata": {
    "collapsed": true
   },
   "outputs": [],
   "source": []
  }
 ],
 "metadata": {
  "kernelspec": {
   "display_name": "Python 3",
   "language": "python",
   "name": "python3"
  },
  "language_info": {
   "codemirror_mode": {
    "name": "ipython",
    "version": 3
   },
   "file_extension": ".py",
   "mimetype": "text/x-python",
   "name": "python",
   "nbconvert_exporter": "python",
   "pygments_lexer": "ipython3",
   "version": "3.6.3"
  }
 },
 "nbformat": 4,
 "nbformat_minor": 2
}
